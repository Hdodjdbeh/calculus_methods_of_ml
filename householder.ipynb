{
 "cells": [
  {
   "cell_type": "markdown",
   "id": "581932b5-1fd0-4518-b322-7044ee3d1599",
   "metadata": {},
   "source": [
    "### Method Householder to solve non-linear system"
   ]
  },
  {
   "cell_type": "code",
   "execution_count": 194,
   "id": "0fd61954",
   "metadata": {},
   "outputs": [],
   "source": [
    "\n",
    "import numpy as np"
   ]
  },
  {
   "cell_type": "code",
   "execution_count": 195,
   "id": "f6dd958e",
   "metadata": {},
   "outputs": [],
   "source": [
    "def house(x):\n",
    "    n=len(x); mu=np.linalg.norm(x); v=np.copy(x)\n",
    "    if mu:\n",
    "        beta=x[0]+(1.0 if x[0] >= 0 else -1.0)*mu\n",
    "        v[1:]/=beta\n",
    "    v[0]=1.0\n",
    "    return v\n"
   ]
  },
  {
   "cell_type": "code",
   "execution_count": 196,
   "id": "f6ad3262",
   "metadata": {},
   "outputs": [],
   "source": [
    "def row_house(A,v):\n",
    "    beta = -2.0 / np.dot(v,v)\n",
    "    w = beta * np.matmul(A.T,v)\n",
    "    A+=np.outer(v,w)\n"
   ]
  },
  {
   "cell_type": "code",
   "execution_count": 197,
   "id": "0a1c6bd7",
   "metadata": {},
   "outputs": [],
   "source": [
    "def house_rev_accum(A,B):\n",
    "    m,n=A.shape\n",
    "    v=np.zeros(m)\n",
    "    for j in range(n-1,-1,-1):\n",
    "        v[j]=1.0; v[j+1:]=A[j+1:,j]\n",
    "        row_house(B[j:,j:],v[j:])\n"
   ]
  },
  {
   "cell_type": "code",
   "execution_count": 198,
   "id": "82de54af",
   "metadata": {},
   "outputs": [
    {
     "name": "stdout",
     "output_type": "stream",
     "text": [
      "[[-2.84780617e+01 -3.04093729e+01 -3.23406842e+01 -3.42719954e+01]\n",
      " [ 2.37464731e-01 -1.12695918e+00 -2.25391836e+00 -3.38087754e+00]\n",
      " [ 4.07082396e-01 -1.35081707e-01  2.09476461e-15  4.23660259e-15]\n",
      " [ 5.42776528e-01 -4.13066445e-01  5.24751609e-01 -4.10004660e-15]\n",
      " [ 6.44547127e-01 -6.21554998e-01 -6.12210211e-01  3.40110954e-01]]\n"
     ]
    },
    {
     "data": {
      "text/plain": [
       "array([[ 1.,  2.,  3.,  4.],\n",
       "       [ 7.,  8.,  9., 10.],\n",
       "       [12., 13., 14., 15.],\n",
       "       [16., 17., 18., 19.],\n",
       "       [19., 20., 21., 22.]])"
      ]
     },
     "metadata": {},
     "output_type": "display_data"
    }
   ],
   "source": [
    "def house_QR(A):\n",
    "    m,n=A.shape\n",
    "    for j in range(n):\n",
    "        v=house(A[j:,j])\n",
    "        row_house(A[j:,j:],v)\n",
    "        if j<m-1:\n",
    "            A[j+1:,j]=v[1:]\n",
    "    return A    \n",
    "            \n",
    "# A=np.array([[1, 2, 3, 4], [7, 8, 9, 10], [12, 13, 14, 15], [16, 17, 18, 19],[19, 20, 21, 22]],dtype = 'float64')\n",
    "# print(house_QR(A))\n",
    "\n",
    "# m,n=A.shape\n",
    "# Q=np.eye(m)\n",
    "# house_rev_accum(A,Q)\n",
    "# R=np.zeros((m,n))\n",
    "# for j in range(n):\n",
    "#     R[:j+1,j]=A[:j+1,j]\n",
    "# display(Q@R)"
   ]
  },
  {
   "cell_type": "code",
   "execution_count": 223,
   "id": "877d5295",
   "metadata": {},
   "outputs": [
    {
     "name": "stdout",
     "output_type": "stream",
     "text": [
      "решение методом хаусхолдера для хорошо обусловленной матрицы [  2. -12.   6.  -2.]\n",
      "решение методом хаусхолдера для плохо обусловленной матрицы [13.99999947 14.99999579 15.99999895 16.9999999 ]\n",
      "1-норма  невязки  для первой матрицы =  2.220446049250313e-16\n",
      "1-норма невязки  для второй матрицы =  5.894383019011684e-06\n",
      "inf-норма  невязки  для первой матрицы =  2.220446049250313e-16\n",
      "inf-норма невязки  для второй матрицы =  4.2107234392574355e-06\n",
      "абсолютная погрешность для первой =  [2.22044605e-16 0.00000000e+00 0.00000000e+00 0.00000000e+00]\n",
      "абсолютная погрешность для первой =  [5.26337764e-07 4.21072344e-06 1.05268143e-06 1.04640389e-07]\n",
      "относительная погрешность для первой =  [ 1.11022302e-16 -0.00000000e+00  0.00000000e+00 -0.00000000e+00]\n",
      "относительная погрешность для первой =  [ 2.63168882e-07 -3.50893620e-07  1.75446904e-07 -5.23201944e-08]\n"
     ]
    }
   ],
   "source": [
    "def solvehouse(A,b):\n",
    "   \n",
    "    house_QR(A)\n",
    "    m,n=A.shape\n",
    "    Q=np.eye(m)\n",
    "    house_rev_accum(A,Q)\n",
    "    R=np.zeros((m,n))\n",
    "    for j in range(n):\n",
    "        R[:j+1,j]=A[:j+1,j]\n",
    "    x=np.empty(A.shape[0])\n",
    "    b = np.matmul(Q.T,b)\n",
    "    for i in range(A.shape[0]-1,-1,-1):\n",
    "        x[i]=b[i]/A[i][i]\n",
    "        for j in range(A.shape[0]-1,i,-1):\n",
    "            x[i]-=x[j]*A[i][j]/A[i][i]\n",
    "    return x  \n",
    "\n",
    "\n",
    "\n",
    "A_1 = np.array([[149.4000,-3.7200,2.7600,2.9400],  \n",
    "     [-9.9300,13.0000,-3.9600,-0.5500],   \n",
    "     [-9.6200,3.2000,174.2000,8.3300],   \n",
    "     [-2.9100,9.5600,0.3500,-57.0000]])\n",
    "b_1 = np.array([354.120,-198.5200,970.9000,-4.4400])\n",
    "x_1 = np.array([2,-12,6,-2],dtype = 'float64')\n",
    "b_1 = np.reshape(b_1,(A_1.shape[0],-1))\n",
    "A_2 = np.array([[69.8010,11.5380,-80.7660,-2.8800],   \n",
    "    [550.0160,93.0030,-644.7280,-23.0400],     \n",
    "    [137.8040,23.0760,-160.6330,-5.7600],     \n",
    "      [7.5600,1.2420,-8.6940,-0.5430]])     \n",
    "b_2 = np.array([-190.9320, -1612.0590, -392.6520, -23.8650])\n",
    "b_2=np.reshape(b_2,(A_2.shape[0],-1))\n",
    "x_2 = np.array([14,15,16,17],dtype = 'float64')\n",
    "x_11 = solvehouse(A_1,b_1)\n",
    "x_22 = solvehouse(A_2,b_2)\n",
    "print('решение методом хаусхолдера для хорошо обусловленной матрицы',x_11)\n",
    "print('решение методом хаусхолдера для плохо обусловленной матрицы',x_22)\n",
    "\n",
    "print('1-норма  невязки  для первой матрицы = ', np.linalg.norm((x_11-x_1),1))\n",
    "print('1-норма невязки  для второй матрицы = ', np.linalg.norm((x_22-x_2),1))\n",
    "print('inf-норма  невязки  для первой матрицы = ', np.linalg.norm((x_11-x_1), np.inf))\n",
    "print('inf-норма невязки  для второй матрицы = ', np.linalg.norm((x_22-x_2), np.inf))\n",
    "print('абсолютная погрешность для первой = ', np.abs(x_11-x_1))\n",
    "print('абсолютная погрешность для первой = ', np.abs(x_22-x_2))\n",
    "print('относительная погрешность для первой = ', np.abs(x_11-x_1)/x_1)\n",
    "print('относительная погрешность для первой = ', np.abs(x_22-x_2)/x_1)\n",
    "\n",
    "\n"
   ]
  },
  {
   "cell_type": "code",
   "execution_count": 214,
   "id": "478a2b0f",
   "metadata": {},
   "outputs": [
    {
     "name": "stdout",
     "output_type": "stream",
     "text": [
      "[[ 1.00000000e+00 -5.63785130e-18  1.76318378e-17  0.00000000e+00]\n",
      " [-3.66460334e-17  1.00000000e+00  1.51137783e-16 -6.76542156e-17]\n",
      " [ 1.90819582e-17  1.73472348e-18  1.00000000e+00 -6.93889390e-18]\n",
      " [ 6.93889390e-18  0.00000000e+00  2.77555756e-17  1.00000000e+00]]\n",
      "[[ 1.00000000e+00 -1.38777878e-17  2.22044605e-16  3.81334233e-18]\n",
      " [ 8.32667268e-17  1.00000000e+00  5.32907052e-15  1.44578360e-16]\n",
      " [-4.85722573e-17 -2.77555756e-17  1.00000000e+00  2.92124723e-17]\n",
      " [ 1.94289029e-16  5.55111512e-17  3.55271368e-15  1.00000000e+00]]\n",
      "Число обусловленности первой матрицы =  19.47294968490102\n",
      "Число обусловленности второй матрицы =  11678.90351127004\n"
     ]
    }
   ],
   "source": [
    "def reverse(A):\n",
    "#     A^(-1)*A=E\n",
    "#  (1 2)   (x1 x2)  (1 0)\n",
    "#  (3 4)   (x3 x4)  (0 1)\n",
    "    X = []\n",
    "    A_1 = np.copy(A)\n",
    "    x = np.zeros(A.shape[1])\n",
    "    for i in range(A.shape[1]):\n",
    "        x[i] = 1\n",
    "        A = np.copy(A_1)\n",
    "        X.append(solvehouse(A,x))\n",
    "        x[i] = 0\n",
    "    return X  \n",
    "A_1 = np.array([[149.4000,-3.7200,2.7600,2.9400],  \n",
    "     [-9.9300,13.0000,-3.9600,-0.5500],   \n",
    "     [-9.6200,3.2000,174.2000,8.3300],   \n",
    "     [-2.9100,9.5600,0.3500,-57.0000]])\n",
    "X_1=np.transpose(reverse(A_1))\n",
    "print(X_1@A_1)\n",
    "X_2=np.transpose(reverse(A_2))\n",
    "print(X_2@A_2)\n",
    "print('Число обусловленности первой матрицы = ', np.linalg.norm(A_1)*np.linalg.norm(X_1))\n",
    "print('Число обусловленности второй матрицы = ', np.linalg.norm(A_2)*np.linalg.norm(X_2))"
   ]
  },
  {
   "cell_type": "code",
   "execution_count": 217,
   "id": "f1dc2f0a",
   "metadata": {},
   "outputs": [
    {
     "name": "stdout",
     "output_type": "stream",
     "text": [
      "[2.0, -12.0, 6.000000000000002, -2.0]\n",
      "[array([nan]), array([nan]), array([nan]), array([nan])]\n"
     ]
    },
    {
     "name": "stderr",
     "output_type": "stream",
     "text": [
      "C:\\Users\\user\\AppData\\Local\\Temp\\ipykernel_16240\\2249033413.py:25: RuntimeWarning: invalid value encountered in divide\n",
      "  x[i] = vector[i] / matrix[i][i]\n"
     ]
    }
   ],
   "source": [
    "def gauss_method(matrix, vector):\n",
    "    n = len(matrix)\n",
    "    for i in range(n):\n",
    "        max_el = abs(matrix[i][i])\n",
    "        max_row = i\n",
    "        for k in range(i + 1, n):\n",
    "            if abs(matrix[k][i]) > max_el:\n",
    "                max_el = abs(matrix[k][i])\n",
    "                max_row = k\n",
    "\n",
    "        matrix[i], matrix[max_row] = matrix[max_row], matrix[i]\n",
    "        vector[i], vector[max_row] = vector[max_row], vector[i]\n",
    "\n",
    "        for k in range(i + 1, n):\n",
    "            c = -matrix[k][i] / matrix[i][i]\n",
    "            for j in range(i, n):\n",
    "                if i == j:\n",
    "                    matrix[k][j] = 0\n",
    "                else:\n",
    "                    matrix[k][j] += c * matrix[i][j]\n",
    "            vector[k] += c * vector[i]\n",
    "\n",
    "    x = [0 for _ in range(n)]\n",
    "    for i in range(n - 1, -1, -1):\n",
    "        x[i] = vector[i] / matrix[i][i]\n",
    "        for k in range(i - 1, -1, -1):\n",
    "            vector[k] -= matrix[k][i] * x[i]\n",
    "    return x\n",
    "A_1 = np.array([[149.4000,-3.7200,2.7600,2.9400],  \n",
    "     [-9.9300,13.0000,-3.9600,-0.5500],   \n",
    "     [-9.6200,3.2000,174.2000,8.3300],   \n",
    "     [-2.9100,9.5600,0.3500,-57.0000]])\n",
    "b_1 = np.array([354.120,-198.5200,970.9000,-4.4400])\n",
    "x_1 = np.array([2,-12,6,-2],dtype = 'float64')\n",
    "A_2 = np.array([[69.8010,11.5380,-80.7660,-2.8800],   \n",
    "    [550.0160,93.0030,-644.7280,-23.0400],     \n",
    "    [137.8040,23.0760,-160.6330,-5.7600],     \n",
    "      [7.5600,1.2420,-8.6940,-0.5430]])     \n",
    "b_2 = np.array([-190.9320, -1612.0590, -392.6520, -23.8650])\n",
    "b_2=np.reshape(b_2,(A_2.shape[0],-1))\n",
    "print(gauss_method(A_1,b_1))    \n",
    "print(gauss_method(A_2,b_2)) #не решает   \n"
   ]
  },
  {
   "cell_type": "code",
   "execution_count": 222,
   "id": "9c294171",
   "metadata": {},
   "outputs": [
    {
     "data": {
      "text/plain": [
       "array([  2., -12.,   6.,  -2.])"
      ]
     },
     "execution_count": 222,
     "metadata": {},
     "output_type": "execute_result"
    }
   ],
   "source": [
    "A_1 = np.array([[149.4000,-3.7200,2.7600,2.9400],  \n",
    "     [-9.9300,13.0000,-3.9600,-0.5500],   \n",
    "     [-9.6200,3.2000,174.2000,8.3300],   \n",
    "     [-2.9100,9.5600,0.3500,-57.0000]])\n",
    "b_1 = np.array([354.120,-198.5200,970.9000,-4.4400])\n",
    "x_1 = np.array([2,-12,6,-2],dtype = 'float64')\n",
    "A_2 = np.array([[69.8010,11.5380,-80.7660,-2.8800],   \n",
    "    [550.0160,93.0030,-644.7280,-23.0400],     \n",
    "    [137.8040,23.0760,-160.6330,-5.7600],     \n",
    "      [7.5600,1.2420,-8.6940,-0.5430]])     \n",
    "b_2 = np.array([-190.9320, -1612.0590, -392.6520, -23.8650])\n",
    "b_2=np.reshape(b_2,(A_2.shape[0],-1))\n",
    "np.linalg.solve(A_1,b_1)\n",
    "np.linalg.solve(A_2,b_2)\n",
    "# L U разложение"
   ]
  },
  {
   "cell_type": "code",
   "execution_count": null,
   "id": "cd2e40dc",
   "metadata": {},
   "outputs": [],
   "source": []
  },
  {
   "cell_type": "code",
   "execution_count": null,
   "id": "3d530fb8",
   "metadata": {},
   "outputs": [],
   "source": []
  }
 ],
 "metadata": {
  "kernelspec": {
   "display_name": "Python 3 (ipykernel)",
   "language": "python",
   "name": "python3"
  },
  "language_info": {
   "codemirror_mode": {
    "name": "ipython",
    "version": 3
   },
   "file_extension": ".py",
   "mimetype": "text/x-python",
   "name": "python",
   "nbconvert_exporter": "python",
   "pygments_lexer": "ipython3",
   "version": "3.12.3"
  }
 },
 "nbformat": 4,
 "nbformat_minor": 5
}
